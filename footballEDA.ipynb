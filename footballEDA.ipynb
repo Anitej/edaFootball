{
 "cells": [
  {
   "cell_type": "markdown",
   "metadata": {},
   "source": [
    "The data used in the notebook can be found in:\n",
    "\n",
    "Pappalardo, Luca; Massucco, Emanuele (2019): Soccer match event dataset. figshare. Collection. https://doi.org/10.6084/m9.figshare.c.4415000.v5\n",
    "A detailed description of the data can be found in the following paper (please cite it if you use the data or the following code):\n",
    "\n",
    "Pappalardo, L., Cintia, P., Rossi, A. et al. A public data set of spatio-temporal match events in soccer competitions. Scientific Data 6, 236 (2019) doi:10.1038/s41597-019-0247-7, https://www.nature.com/articles/s41597-019-0247-7\n"
   ]
  },
  {
   "cell_type": "markdown",
   "metadata": {},
   "source": [
    "### Loading libraries"
   ]
  },
  {
   "cell_type": "code",
   "execution_count": 1,
   "metadata": {},
   "outputs": [],
   "source": [
    "import pandas as pd\n",
    "import numpy as np\n",
    "import json\n",
    "\n",
    "import matplotlib.pyplot as plt\n",
    "\n",
    "with open('events/events_England.json') as f:\n",
    "    data = json.load(f)"
   ]
  },
  {
   "cell_type": "code",
   "execution_count": 2,
   "metadata": {},
   "outputs": [],
   "source": [
    "train = pd.DataFrame(data)"
   ]
  },
  {
   "cell_type": "markdown",
   "metadata": {},
   "source": [
    "### Data Exploration:"
   ]
  },
  {
   "cell_type": "code",
   "execution_count": 3,
   "metadata": {},
   "outputs": [
    {
     "name": "stdout",
     "output_type": "stream",
     "text": [
      "<class 'pandas.core.frame.DataFrame'>\n",
      "RangeIndex: 643150 entries, 0 to 643149\n",
      "Data columns (total 12 columns):\n",
      " #   Column        Non-Null Count   Dtype  \n",
      "---  ------        --------------   -----  \n",
      " 0   eventId       643150 non-null  int64  \n",
      " 1   subEventName  643150 non-null  object \n",
      " 2   tags          643150 non-null  object \n",
      " 3   playerId      643150 non-null  int64  \n",
      " 4   positions     643150 non-null  object \n",
      " 5   matchId       643150 non-null  int64  \n",
      " 6   eventName     643150 non-null  object \n",
      " 7   teamId        643150 non-null  int64  \n",
      " 8   matchPeriod   643150 non-null  object \n",
      " 9   eventSec      643150 non-null  float64\n",
      " 10  subEventId    643150 non-null  object \n",
      " 11  id            643150 non-null  int64  \n",
      "dtypes: float64(1), int64(5), object(6)\n",
      "memory usage: 58.9+ MB\n"
     ]
    }
   ],
   "source": [
    "train.info()"
   ]
  },
  {
   "cell_type": "code",
   "execution_count": 4,
   "metadata": {},
   "outputs": [
    {
     "data": {
      "text/html": [
       "<div>\n",
       "<style scoped>\n",
       "    .dataframe tbody tr th:only-of-type {\n",
       "        vertical-align: middle;\n",
       "    }\n",
       "\n",
       "    .dataframe tbody tr th {\n",
       "        vertical-align: top;\n",
       "    }\n",
       "\n",
       "    .dataframe thead th {\n",
       "        text-align: right;\n",
       "    }\n",
       "</style>\n",
       "<table border=\"1\" class=\"dataframe\">\n",
       "  <thead>\n",
       "    <tr style=\"text-align: right;\">\n",
       "      <th></th>\n",
       "      <th>eventId</th>\n",
       "      <th>subEventName</th>\n",
       "      <th>tags</th>\n",
       "      <th>playerId</th>\n",
       "      <th>positions</th>\n",
       "      <th>matchId</th>\n",
       "      <th>eventName</th>\n",
       "      <th>teamId</th>\n",
       "      <th>matchPeriod</th>\n",
       "      <th>eventSec</th>\n",
       "      <th>subEventId</th>\n",
       "      <th>id</th>\n",
       "    </tr>\n",
       "  </thead>\n",
       "  <tbody>\n",
       "    <tr>\n",
       "      <th>0</th>\n",
       "      <td>8</td>\n",
       "      <td>Simple pass</td>\n",
       "      <td>[{'id': 1801}]</td>\n",
       "      <td>25413</td>\n",
       "      <td>[{'y': 49, 'x': 49}, {'y': 78, 'x': 31}]</td>\n",
       "      <td>2499719</td>\n",
       "      <td>Pass</td>\n",
       "      <td>1609</td>\n",
       "      <td>1H</td>\n",
       "      <td>2.758649</td>\n",
       "      <td>85</td>\n",
       "      <td>177959171</td>\n",
       "    </tr>\n",
       "    <tr>\n",
       "      <th>1</th>\n",
       "      <td>8</td>\n",
       "      <td>High pass</td>\n",
       "      <td>[{'id': 1801}]</td>\n",
       "      <td>370224</td>\n",
       "      <td>[{'y': 78, 'x': 31}, {'y': 75, 'x': 51}]</td>\n",
       "      <td>2499719</td>\n",
       "      <td>Pass</td>\n",
       "      <td>1609</td>\n",
       "      <td>1H</td>\n",
       "      <td>4.946850</td>\n",
       "      <td>83</td>\n",
       "      <td>177959172</td>\n",
       "    </tr>\n",
       "    <tr>\n",
       "      <th>2</th>\n",
       "      <td>8</td>\n",
       "      <td>Head pass</td>\n",
       "      <td>[{'id': 1801}]</td>\n",
       "      <td>3319</td>\n",
       "      <td>[{'y': 75, 'x': 51}, {'y': 71, 'x': 35}]</td>\n",
       "      <td>2499719</td>\n",
       "      <td>Pass</td>\n",
       "      <td>1609</td>\n",
       "      <td>1H</td>\n",
       "      <td>6.542188</td>\n",
       "      <td>82</td>\n",
       "      <td>177959173</td>\n",
       "    </tr>\n",
       "    <tr>\n",
       "      <th>3</th>\n",
       "      <td>8</td>\n",
       "      <td>Head pass</td>\n",
       "      <td>[{'id': 1801}]</td>\n",
       "      <td>120339</td>\n",
       "      <td>[{'y': 71, 'x': 35}, {'y': 95, 'x': 41}]</td>\n",
       "      <td>2499719</td>\n",
       "      <td>Pass</td>\n",
       "      <td>1609</td>\n",
       "      <td>1H</td>\n",
       "      <td>8.143395</td>\n",
       "      <td>82</td>\n",
       "      <td>177959174</td>\n",
       "    </tr>\n",
       "    <tr>\n",
       "      <th>4</th>\n",
       "      <td>8</td>\n",
       "      <td>Simple pass</td>\n",
       "      <td>[{'id': 1801}]</td>\n",
       "      <td>167145</td>\n",
       "      <td>[{'y': 95, 'x': 41}, {'y': 88, 'x': 72}]</td>\n",
       "      <td>2499719</td>\n",
       "      <td>Pass</td>\n",
       "      <td>1609</td>\n",
       "      <td>1H</td>\n",
       "      <td>10.302366</td>\n",
       "      <td>85</td>\n",
       "      <td>177959175</td>\n",
       "    </tr>\n",
       "  </tbody>\n",
       "</table>\n",
       "</div>"
      ],
      "text/plain": [
       "   eventId subEventName            tags  playerId  \\\n",
       "0        8  Simple pass  [{'id': 1801}]     25413   \n",
       "1        8    High pass  [{'id': 1801}]    370224   \n",
       "2        8    Head pass  [{'id': 1801}]      3319   \n",
       "3        8    Head pass  [{'id': 1801}]    120339   \n",
       "4        8  Simple pass  [{'id': 1801}]    167145   \n",
       "\n",
       "                                  positions  matchId eventName  teamId  \\\n",
       "0  [{'y': 49, 'x': 49}, {'y': 78, 'x': 31}]  2499719      Pass    1609   \n",
       "1  [{'y': 78, 'x': 31}, {'y': 75, 'x': 51}]  2499719      Pass    1609   \n",
       "2  [{'y': 75, 'x': 51}, {'y': 71, 'x': 35}]  2499719      Pass    1609   \n",
       "3  [{'y': 71, 'x': 35}, {'y': 95, 'x': 41}]  2499719      Pass    1609   \n",
       "4  [{'y': 95, 'x': 41}, {'y': 88, 'x': 72}]  2499719      Pass    1609   \n",
       "\n",
       "  matchPeriod   eventSec subEventId         id  \n",
       "0          1H   2.758649         85  177959171  \n",
       "1          1H   4.946850         83  177959172  \n",
       "2          1H   6.542188         82  177959173  \n",
       "3          1H   8.143395         82  177959174  \n",
       "4          1H  10.302366         85  177959175  "
      ]
     },
     "execution_count": 4,
     "metadata": {},
     "output_type": "execute_result"
    }
   ],
   "source": [
    "train.head()"
   ]
  },
  {
   "cell_type": "markdown",
   "metadata": {},
   "source": [
    "As we can see, there are sub-event names for every event. Let's explore the main column of events (eventName)"
   ]
  },
  {
   "cell_type": "code",
   "execution_count": 5,
   "metadata": {},
   "outputs": [],
   "source": [
    "event_names = []\n",
    "event_values = []\n",
    "\n",
    "for event in train['eventName'].unique():\n",
    "    event_names.append(event)\n",
    "    event_values.append(len(train[train['eventName']==event]))  \n",
    "    \n",
    "\n",
    "unsorted_list = [(event_value,event_name) for event_name,event_value in zip(event_names,event_values)]\n",
    "\n",
    "sorted_list = sorted(unsorted_list)"
   ]
  },
  {
   "cell_type": "code",
   "execution_count": 6,
   "metadata": {},
   "outputs": [
    {
     "data": {
      "text/plain": [
       "[(1266, 'Goalkeeper leaving line'),\n",
       " (1558, 'Offside'),\n",
       " (3349, 'Save attempt'),\n",
       " (8138, 'Foul'),\n",
       " (8451, 'Shot'),\n",
       " (27535, 'Interruption'),\n",
       " (36423, 'Free Kick'),\n",
       " (51085, 'Others on the ball'),\n",
       " (176688, 'Duel'),\n",
       " (328657, 'Pass')]"
      ]
     },
     "execution_count": 6,
     "metadata": {},
     "output_type": "execute_result"
    }
   ],
   "source": [
    "sorted_list"
   ]
  },
  {
   "cell_type": "markdown",
   "metadata": {},
   "source": [
    "Now we can go ahead and plot a bar graph that depicts the percentage of different types of events that occur throughout the season:"
   ]
  },
  {
   "cell_type": "code",
   "execution_count": 7,
   "metadata": {},
   "outputs": [
    {
     "data": {
      "image/png": "[encoded data removed]",
      "text/plain": [
       "<Figure size 432x288 with 1 Axes>"
      ]
     },
     "metadata": {
      "needs_background": "light"
     },
     "output_type": "display_data"
    }
   ],
   "source": [
    "name_sorted = []\n",
    "value_sorted = []\n",
    "for i in sorted_list:\n",
    "    name_sorted += [i[1]]\n",
    "    value_sorted += [i[0]]\n",
    "\n",
    "bar_width = [x/sum(value_sorted)*100 for x in value_sorted]\n",
    "bar_pos = np.arange(len(name_sorted))+.75\n",
    "\n",
    "fig,ax = plt.subplots()\n",
    "ax.barh(bar_pos,bar_width,0.5)\n",
    "plt.xlabel('events (%)')\n",
    "ax.set_yticks(bar_pos)\n",
    "ax.set_yticklabels(name_sorted)\n",
    "plt.show()"
   ]
  },
  {
   "cell_type": "markdown",
   "metadata": {},
   "source": [
    "The above bar graph shows that about 50% of the events were passes, while duels were the 2nd most - which seems reasonable. "
   ]
  },
  {
   "cell_type": "markdown",
   "metadata": {},
   "source": [
    "Let's go ahead and investigate the most common event - passes."
   ]
  },
  {
   "cell_type": "markdown",
   "metadata": {},
   "source": [
    "# Explore Passes\n"
   ]
  },
  {
   "cell_type": "code",
   "execution_count": 8,
   "metadata": {},
   "outputs": [
    {
     "name": "stderr",
     "output_type": "stream",
     "text": [
      "<ipython-input-8-732f0bf40f4f>:6: SettingWithCopyWarning:\n",
      "\n",
      "\n",
      "A value is trying to be set on a copy of a slice from a DataFrame.\n",
      "Try using .loc[row_indexer,col_indexer] = value instead\n",
      "\n",
      "See the caveats in the documentation: https://pandas.pydata.org/pandas-docs/stable/user_guide/indexing.html#returning-a-view-versus-a-copy\n",
      "\n",
      "<ipython-input-8-732f0bf40f4f>:7: SettingWithCopyWarning:\n",
      "\n",
      "\n",
      "A value is trying to be set on a copy of a slice from a DataFrame.\n",
      "Try using .loc[row_indexer,col_indexer] = value instead\n",
      "\n",
      "See the caveats in the documentation: https://pandas.pydata.org/pandas-docs/stable/user_guide/indexing.html#returning-a-view-versus-a-copy\n",
      "\n"
     ]
    }
   ],
   "source": [
    "from plot_utils import *\n",
    "\n",
    "#plot one event on the field\n",
    "pass_df = train[train['eventName']=='Pass']\n",
    "\n",
    "pass_df['x_start'] = [x[0]['x'] for x in pass_df['positions']]\n",
    "pass_df['y_start'] = [x[0]['y'] for x in pass_df['positions']]"
   ]
  },
  {
   "cell_type": "code",
   "execution_count": 9,
   "metadata": {},
   "outputs": [
    {
     "data": {
      "text/html": [
       "<div>\n",
       "<style scoped>\n",
       "    .dataframe tbody tr th:only-of-type {\n",
       "        vertical-align: middle;\n",
       "    }\n",
       "\n",
       "    .dataframe tbody tr th {\n",
       "        vertical-align: top;\n",
       "    }\n",
       "\n",
       "    .dataframe thead th {\n",
       "        text-align: right;\n",
       "    }\n",
       "</style>\n",
       "<table border=\"1\" class=\"dataframe\">\n",
       "  <thead>\n",
       "    <tr style=\"text-align: right;\">\n",
       "      <th></th>\n",
       "      <th>eventId</th>\n",
       "      <th>subEventName</th>\n",
       "      <th>tags</th>\n",
       "      <th>playerId</th>\n",
       "      <th>positions</th>\n",
       "      <th>matchId</th>\n",
       "      <th>eventName</th>\n",
       "      <th>teamId</th>\n",
       "      <th>matchPeriod</th>\n",
       "      <th>eventSec</th>\n",
       "      <th>subEventId</th>\n",
       "      <th>id</th>\n",
       "      <th>x_start</th>\n",
       "      <th>y_start</th>\n",
       "    </tr>\n",
       "  </thead>\n",
       "  <tbody>\n",
       "    <tr>\n",
       "      <th>0</th>\n",
       "      <td>8</td>\n",
       "      <td>Simple pass</td>\n",
       "      <td>[{'id': 1801}]</td>\n",
       "      <td>25413</td>\n",
       "      <td>[{'y': 49, 'x': 49}, {'y': 78, 'x': 31}]</td>\n",
       "      <td>2499719</td>\n",
       "      <td>Pass</td>\n",
       "      <td>1609</td>\n",
       "      <td>1H</td>\n",
       "      <td>2.758649</td>\n",
       "      <td>85</td>\n",
       "      <td>177959171</td>\n",
       "      <td>49</td>\n",
       "      <td>49</td>\n",
       "    </tr>\n",
       "    <tr>\n",
       "      <th>1</th>\n",
       "      <td>8</td>\n",
       "      <td>High pass</td>\n",
       "      <td>[{'id': 1801}]</td>\n",
       "      <td>370224</td>\n",
       "      <td>[{'y': 78, 'x': 31}, {'y': 75, 'x': 51}]</td>\n",
       "      <td>2499719</td>\n",
       "      <td>Pass</td>\n",
       "      <td>1609</td>\n",
       "      <td>1H</td>\n",
       "      <td>4.946850</td>\n",
       "      <td>83</td>\n",
       "      <td>177959172</td>\n",
       "      <td>31</td>\n",
       "      <td>78</td>\n",
       "    </tr>\n",
       "    <tr>\n",
       "      <th>2</th>\n",
       "      <td>8</td>\n",
       "      <td>Head pass</td>\n",
       "      <td>[{'id': 1801}]</td>\n",
       "      <td>3319</td>\n",
       "      <td>[{'y': 75, 'x': 51}, {'y': 71, 'x': 35}]</td>\n",
       "      <td>2499719</td>\n",
       "      <td>Pass</td>\n",
       "      <td>1609</td>\n",
       "      <td>1H</td>\n",
       "      <td>6.542188</td>\n",
       "      <td>82</td>\n",
       "      <td>177959173</td>\n",
       "      <td>51</td>\n",
       "      <td>75</td>\n",
       "    </tr>\n",
       "    <tr>\n",
       "      <th>3</th>\n",
       "      <td>8</td>\n",
       "      <td>Head pass</td>\n",
       "      <td>[{'id': 1801}]</td>\n",
       "      <td>120339</td>\n",
       "      <td>[{'y': 71, 'x': 35}, {'y': 95, 'x': 41}]</td>\n",
       "      <td>2499719</td>\n",
       "      <td>Pass</td>\n",
       "      <td>1609</td>\n",
       "      <td>1H</td>\n",
       "      <td>8.143395</td>\n",
       "      <td>82</td>\n",
       "      <td>177959174</td>\n",
       "      <td>35</td>\n",
       "      <td>71</td>\n",
       "    </tr>\n",
       "    <tr>\n",
       "      <th>4</th>\n",
       "      <td>8</td>\n",
       "      <td>Simple pass</td>\n",
       "      <td>[{'id': 1801}]</td>\n",
       "      <td>167145</td>\n",
       "      <td>[{'y': 95, 'x': 41}, {'y': 88, 'x': 72}]</td>\n",
       "      <td>2499719</td>\n",
       "      <td>Pass</td>\n",
       "      <td>1609</td>\n",
       "      <td>1H</td>\n",
       "      <td>10.302366</td>\n",
       "      <td>85</td>\n",
       "      <td>177959175</td>\n",
       "      <td>41</td>\n",
       "      <td>95</td>\n",
       "    </tr>\n",
       "    <tr>\n",
       "      <th>...</th>\n",
       "      <td>...</td>\n",
       "      <td>...</td>\n",
       "      <td>...</td>\n",
       "      <td>...</td>\n",
       "      <td>...</td>\n",
       "      <td>...</td>\n",
       "      <td>...</td>\n",
       "      <td>...</td>\n",
       "      <td>...</td>\n",
       "      <td>...</td>\n",
       "      <td>...</td>\n",
       "      <td>...</td>\n",
       "      <td>...</td>\n",
       "      <td>...</td>\n",
       "    </tr>\n",
       "    <tr>\n",
       "      <th>643134</th>\n",
       "      <td>8</td>\n",
       "      <td>Simple pass</td>\n",
       "      <td>[{'id': 1801}]</td>\n",
       "      <td>8313</td>\n",
       "      <td>[{'y': 63, 'x': 65}, {'y': 96, 'x': 61}]</td>\n",
       "      <td>2500098</td>\n",
       "      <td>Pass</td>\n",
       "      <td>1633</td>\n",
       "      <td>2H</td>\n",
       "      <td>2760.286946</td>\n",
       "      <td>85</td>\n",
       "      <td>251596219</td>\n",
       "      <td>65</td>\n",
       "      <td>63</td>\n",
       "    </tr>\n",
       "    <tr>\n",
       "      <th>643135</th>\n",
       "      <td>8</td>\n",
       "      <td>Simple pass</td>\n",
       "      <td>[{'id': 1801}]</td>\n",
       "      <td>379209</td>\n",
       "      <td>[{'y': 96, 'x': 61}, {'y': 85, 'x': 40}]</td>\n",
       "      <td>2500098</td>\n",
       "      <td>Pass</td>\n",
       "      <td>1633</td>\n",
       "      <td>2H</td>\n",
       "      <td>2763.698599</td>\n",
       "      <td>85</td>\n",
       "      <td>251596221</td>\n",
       "      <td>61</td>\n",
       "      <td>96</td>\n",
       "    </tr>\n",
       "    <tr>\n",
       "      <th>643141</th>\n",
       "      <td>8</td>\n",
       "      <td>Simple pass</td>\n",
       "      <td>[{'id': 1801}]</td>\n",
       "      <td>8561</td>\n",
       "      <td>[{'y': 70, 'x': 59}, {'y': 89, 'x': 53}]</td>\n",
       "      <td>2500098</td>\n",
       "      <td>Pass</td>\n",
       "      <td>1633</td>\n",
       "      <td>2H</td>\n",
       "      <td>2783.137836</td>\n",
       "      <td>85</td>\n",
       "      <td>251596225</td>\n",
       "      <td>59</td>\n",
       "      <td>70</td>\n",
       "    </tr>\n",
       "    <tr>\n",
       "      <th>643142</th>\n",
       "      <td>8</td>\n",
       "      <td>High pass</td>\n",
       "      <td>[{'id': 1801}]</td>\n",
       "      <td>20620</td>\n",
       "      <td>[{'y': 89, 'x': 53}, {'y': 72, 'x': 99}]</td>\n",
       "      <td>2500098</td>\n",
       "      <td>Pass</td>\n",
       "      <td>1633</td>\n",
       "      <td>2H</td>\n",
       "      <td>2785.702032</td>\n",
       "      <td>83</td>\n",
       "      <td>251596226</td>\n",
       "      <td>53</td>\n",
       "      <td>89</td>\n",
       "    </tr>\n",
       "    <tr>\n",
       "      <th>643143</th>\n",
       "      <td>8</td>\n",
       "      <td>Cross</td>\n",
       "      <td>[{'id': 402}, {'id': 2101}, {'id': 1802}]</td>\n",
       "      <td>14703</td>\n",
       "      <td>[{'y': 72, 'x': 99}, {'y': 0, 'x': 0}]</td>\n",
       "      <td>2500098</td>\n",
       "      <td>Pass</td>\n",
       "      <td>1633</td>\n",
       "      <td>2H</td>\n",
       "      <td>2789.232666</td>\n",
       "      <td>80</td>\n",
       "      <td>251596229</td>\n",
       "      <td>99</td>\n",
       "      <td>72</td>\n",
       "    </tr>\n",
       "  </tbody>\n",
       "</table>\n",
       "<p>328657 rows × 14 columns</p>\n",
       "</div>"
      ],
      "text/plain": [
       "        eventId subEventName                                       tags  \\\n",
       "0             8  Simple pass                             [{'id': 1801}]   \n",
       "1             8    High pass                             [{'id': 1801}]   \n",
       "2             8    Head pass                             [{'id': 1801}]   \n",
       "3             8    Head pass                             [{'id': 1801}]   \n",
       "4             8  Simple pass                             [{'id': 1801}]   \n",
       "...         ...          ...                                        ...   \n",
       "643134        8  Simple pass                             [{'id': 1801}]   \n",
       "643135        8  Simple pass                             [{'id': 1801}]   \n",
       "643141        8  Simple pass                             [{'id': 1801}]   \n",
       "643142        8    High pass                             [{'id': 1801}]   \n",
       "643143        8        Cross  [{'id': 402}, {'id': 2101}, {'id': 1802}]   \n",
       "\n",
       "        playerId                                 positions  matchId eventName  \\\n",
       "0          25413  [{'y': 49, 'x': 49}, {'y': 78, 'x': 31}]  2499719      Pass   \n",
       "1         370224  [{'y': 78, 'x': 31}, {'y': 75, 'x': 51}]  2499719      Pass   \n",
       "2           3319  [{'y': 75, 'x': 51}, {'y': 71, 'x': 35}]  2499719      Pass   \n",
       "3         120339  [{'y': 71, 'x': 35}, {'y': 95, 'x': 41}]  2499719      Pass   \n",
       "4         167145  [{'y': 95, 'x': 41}, {'y': 88, 'x': 72}]  2499719      Pass   \n",
       "...          ...                                       ...      ...       ...   \n",
       "643134      8313  [{'y': 63, 'x': 65}, {'y': 96, 'x': 61}]  2500098      Pass   \n",
       "643135    379209  [{'y': 96, 'x': 61}, {'y': 85, 'x': 40}]  2500098      Pass   \n",
       "643141      8561  [{'y': 70, 'x': 59}, {'y': 89, 'x': 53}]  2500098      Pass   \n",
       "643142     20620  [{'y': 89, 'x': 53}, {'y': 72, 'x': 99}]  2500098      Pass   \n",
       "643143     14703    [{'y': 72, 'x': 99}, {'y': 0, 'x': 0}]  2500098      Pass   \n",
       "\n",
       "        teamId matchPeriod     eventSec subEventId         id  x_start  \\\n",
       "0         1609          1H     2.758649         85  177959171       49   \n",
       "1         1609          1H     4.946850         83  177959172       31   \n",
       "2         1609          1H     6.542188         82  177959173       51   \n",
       "3         1609          1H     8.143395         82  177959174       35   \n",
       "4         1609          1H    10.302366         85  177959175       41   \n",
       "...        ...         ...          ...        ...        ...      ...   \n",
       "643134    1633          2H  2760.286946         85  251596219       65   \n",
       "643135    1633          2H  2763.698599         85  251596221       61   \n",
       "643141    1633          2H  2783.137836         85  251596225       59   \n",
       "643142    1633          2H  2785.702032         83  251596226       53   \n",
       "643143    1633          2H  2789.232666         80  251596229       99   \n",
       "\n",
       "        y_start  \n",
       "0            49  \n",
       "1            78  \n",
       "2            75  \n",
       "3            71  \n",
       "4            95  \n",
       "...         ...  \n",
       "643134       63  \n",
       "643135       96  \n",
       "643141       70  \n",
       "643142       89  \n",
       "643143       72  \n",
       "\n",
       "[328657 rows x 14 columns]"
      ]
     },
     "execution_count": 9,
     "metadata": {},
     "output_type": "execute_result"
    }
   ],
   "source": [
    "pass_df"
   ]
  },
  {
   "cell_type": "markdown",
   "metadata": {},
   "source": [
    "As we can see, the Pass dataframe includes various types of passes, and provides the starting co-ordinates of the respective pass. The code that was executed above simply took the starting x & y coordinates from the 'positions' column, and added it to two seperate columns called 'x_start' and 'y_start' respectively."
   ]
  },
  {
   "cell_type": "markdown",
   "metadata": {},
   "source": [
    "Let's now visualize  passes that occured in some random match using a valid match id."
   ]
  },
  {
   "cell_type": "code",
   "execution_count": 10,
   "metadata": {},
   "outputs": [
    {
     "data": {
      "image/png": "[encoded data removed]",
      "text/plain": [
       "<Figure size 748.8x489.6 with 1 Axes>"
      ]
     },
     "metadata": {
      "needs_background": "light"
     },
     "output_type": "display_data"
    }
   ],
   "source": [
    "random_match = pass_df[pass_df['matchId']==2499719]\n",
    "\n",
    "team1,team2=random_match['teamId'].unique()\n",
    "\n",
    "team1_df = random_match[random_match['teamId']==team1]\n",
    "team2_df = random_match[random_match['teamId']==team2]\n",
    "\n",
    "f = draw_pitch(\"white\", \"black\", \"h\", \"full\")\n",
    "plt.scatter(team1_df['x_start'], team1_df['y_start'], c='red', edgecolors=\"k\", zorder=12, \n",
    "            alpha=0.5, label='Team 1')\n",
    "plt.scatter(team2_df['x_start'], team2_df['y_start'], marker='s', c='blue', edgecolors=\"w\", linewidth=0.25, zorder=12, \n",
    "            alpha=0.7, label='Team 2')\n",
    "plt.legend(fontsize=20, bbox_to_anchor=(1.01, 1.05))\n",
    "plt.title('Pass Plot', fontsize=20)\n",
    "plt.show()"
   ]
  },
  {
   "cell_type": "markdown",
   "metadata": {},
   "source": [
    "The following function was created so that we can visualize all types of events, and not just passes, from a certain match. Remember, there are 10 types of events under the column 'eventName'.\n"
   ]
  },
  {
   "cell_type": "code",
   "execution_count": 11,
   "metadata": {},
   "outputs": [],
   "source": [
    "#then function to plot given event of given match\n",
    "def plot_event(event_name,match_id):\n",
    "    \n",
    "    event_df = train[train['eventName']==event_name]\n",
    "    \n",
    "    event_df['x_start'] = [x[0]['x'] for x in event_df['positions']]\n",
    "    event_df['y_start'] = [x[0]['y'] for x in event_df['positions']]\n",
    "    \n",
    "    random_match = event_df[event_df['matchId']==match_id]\n",
    "    team1,team2 = random_match['teamId'].unique()\n",
    "    \n",
    "    team1_df = random_match[random_match['teamId']==team1]\n",
    "    team2_df = random_match[random_match['teamId']==team2]\n",
    "\n",
    "    f = draw_pitch(\"white\", \"black\", \"h\", \"full\")\n",
    "    plt.scatter(team1_df['x_start'], team1_df['y_start'], c='red', edgecolors=\"k\", zorder=12, \n",
    "                alpha=0.5, label='Team 1')\n",
    "    plt.scatter(team2_df['x_start'], team2_df['y_start'], marker='s', c='blue', edgecolors=\"w\", linewidth=0.25, zorder=12, \n",
    "                alpha=0.7, label='Team 2')\n",
    "    plt.legend(fontsize=20, bbox_to_anchor=(1.01, 1.05))\n",
    "    plt.title(event_name+' Plot', fontsize=20)\n",
    "    plt.show()"
   ]
  },
  {
   "cell_type": "code",
   "execution_count": 12,
   "metadata": {},
   "outputs": [
    {
     "name": "stderr",
     "output_type": "stream",
     "text": [
      "<ipython-input-11-2794b2fd74de>:6: SettingWithCopyWarning:\n",
      "\n",
      "\n",
      "A value is trying to be set on a copy of a slice from a DataFrame.\n",
      "Try using .loc[row_indexer,col_indexer] = value instead\n",
      "\n",
      "See the caveats in the documentation: https://pandas.pydata.org/pandas-docs/stable/user_guide/indexing.html#returning-a-view-versus-a-copy\n",
      "\n",
      "<ipython-input-11-2794b2fd74de>:7: SettingWithCopyWarning:\n",
      "\n",
      "\n",
      "A value is trying to be set on a copy of a slice from a DataFrame.\n",
      "Try using .loc[row_indexer,col_indexer] = value instead\n",
      "\n",
      "See the caveats in the documentation: https://pandas.pydata.org/pandas-docs/stable/user_guide/indexing.html#returning-a-view-versus-a-copy\n",
      "\n"
     ]
    },
    {
     "data": {
      "image/png": "[encoded data removed]",
      "text/plain": [
       "<Figure size 748.8x489.6 with 1 Axes>"
      ]
     },
     "metadata": {
      "needs_background": "light"
     },
     "output_type": "display_data"
    }
   ],
   "source": [
    "plot_event('Foul',2499719)"
   ]
  },
  {
   "cell_type": "markdown",
   "metadata": {},
   "source": [
    "There can be improvements made to the above function by adding more parameters to increase options of changing the vizualization - either by including all matches or by adding a teamId parameter to restrict plots just to that team etc.  "
   ]
  },
  {
   "cell_type": "markdown",
   "metadata": {},
   "source": [
    "The following code uses the function above to plot interruptions and fouls occured during a certain match."
   ]
  },
  {
   "cell_type": "markdown",
   "metadata": {},
   "source": [
    "# Explore Shots"
   ]
  },
  {
   "cell_type": "markdown",
   "metadata": {},
   "source": [
    "The idea is to visualize shot-events & goal-events throughout the season to see where the goal-scoring opportunities occured. We will build on these plots to go on and explain the concept behind 'Expected Goals'. "
   ]
  },
  {
   "cell_type": "code",
   "execution_count": 13,
   "metadata": {},
   "outputs": [],
   "source": [
    "cond1=train.subEventName=='Shot'\n",
    "shots = train[(cond1)] #taking only shots and not free-kick shots for now"
   ]
  },
  {
   "cell_type": "code",
   "execution_count": 14,
   "metadata": {},
   "outputs": [
    {
     "data": {
      "text/html": [
       "<div>\n",
       "<style scoped>\n",
       "    .dataframe tbody tr th:only-of-type {\n",
       "        vertical-align: middle;\n",
       "    }\n",
       "\n",
       "    .dataframe tbody tr th {\n",
       "        vertical-align: top;\n",
       "    }\n",
       "\n",
       "    .dataframe thead th {\n",
       "        text-align: right;\n",
       "    }\n",
       "</style>\n",
       "<table border=\"1\" class=\"dataframe\">\n",
       "  <thead>\n",
       "    <tr style=\"text-align: right;\">\n",
       "      <th></th>\n",
       "      <th>eventId</th>\n",
       "      <th>subEventName</th>\n",
       "      <th>tags</th>\n",
       "      <th>playerId</th>\n",
       "      <th>positions</th>\n",
       "      <th>matchId</th>\n",
       "      <th>eventName</th>\n",
       "      <th>teamId</th>\n",
       "      <th>matchPeriod</th>\n",
       "      <th>eventSec</th>\n",
       "      <th>subEventId</th>\n",
       "      <th>id</th>\n",
       "    </tr>\n",
       "  </thead>\n",
       "  <tbody>\n",
       "    <tr>\n",
       "      <th>46</th>\n",
       "      <td>10</td>\n",
       "      <td>Shot</td>\n",
       "      <td>[{'id': 101}, {'id': 402}, {'id': 201}, {'id':...</td>\n",
       "      <td>25413</td>\n",
       "      <td>[{'y': 41, 'x': 88}, {'y': 0, 'x': 0}]</td>\n",
       "      <td>2499719</td>\n",
       "      <td>Shot</td>\n",
       "      <td>1609</td>\n",
       "      <td>1H</td>\n",
       "      <td>94.595788</td>\n",
       "      <td>100</td>\n",
       "      <td>177959212</td>\n",
       "    </tr>\n",
       "    <tr>\n",
       "      <th>62</th>\n",
       "      <td>10</td>\n",
       "      <td>Shot</td>\n",
       "      <td>[{'id': 401}, {'id': 201}, {'id': 1211}, {'id'...</td>\n",
       "      <td>26150</td>\n",
       "      <td>[{'y': 52, 'x': 85}, {'y': 100, 'x': 100}]</td>\n",
       "      <td>2499719</td>\n",
       "      <td>Shot</td>\n",
       "      <td>1631</td>\n",
       "      <td>1H</td>\n",
       "      <td>179.854785</td>\n",
       "      <td>100</td>\n",
       "      <td>177959247</td>\n",
       "    </tr>\n",
       "    <tr>\n",
       "      <th>91</th>\n",
       "      <td>10</td>\n",
       "      <td>Shot</td>\n",
       "      <td>[{'id': 101}, {'id': 403}, {'id': 201}, {'id':...</td>\n",
       "      <td>14763</td>\n",
       "      <td>[{'y': 52, 'x': 96}, {'y': 100, 'x': 100}]</td>\n",
       "      <td>2499719</td>\n",
       "      <td>Shot</td>\n",
       "      <td>1631</td>\n",
       "      <td>1H</td>\n",
       "      <td>254.745027</td>\n",
       "      <td>100</td>\n",
       "      <td>177959280</td>\n",
       "    </tr>\n",
       "    <tr>\n",
       "      <th>128</th>\n",
       "      <td>10</td>\n",
       "      <td>Shot</td>\n",
       "      <td>[{'id': 401}, {'id': 201}, {'id': 1215}, {'id'...</td>\n",
       "      <td>7868</td>\n",
       "      <td>[{'y': 33, 'x': 81}, {'y': 0, 'x': 0}]</td>\n",
       "      <td>2499719</td>\n",
       "      <td>Shot</td>\n",
       "      <td>1609</td>\n",
       "      <td>1H</td>\n",
       "      <td>425.824035</td>\n",
       "      <td>100</td>\n",
       "      <td>177959289</td>\n",
       "    </tr>\n",
       "    <tr>\n",
       "      <th>249</th>\n",
       "      <td>10</td>\n",
       "      <td>Shot</td>\n",
       "      <td>[{'id': 402}, {'id': 201}, {'id': 1205}, {'id'...</td>\n",
       "      <td>7868</td>\n",
       "      <td>[{'y': 30, 'x': 75}, {'y': 0, 'x': 0}]</td>\n",
       "      <td>2499719</td>\n",
       "      <td>Shot</td>\n",
       "      <td>1609</td>\n",
       "      <td>1H</td>\n",
       "      <td>815.462015</td>\n",
       "      <td>100</td>\n",
       "      <td>177959429</td>\n",
       "    </tr>\n",
       "  </tbody>\n",
       "</table>\n",
       "</div>"
      ],
      "text/plain": [
       "     eventId subEventName                                               tags  \\\n",
       "46        10         Shot  [{'id': 101}, {'id': 402}, {'id': 201}, {'id':...   \n",
       "62        10         Shot  [{'id': 401}, {'id': 201}, {'id': 1211}, {'id'...   \n",
       "91        10         Shot  [{'id': 101}, {'id': 403}, {'id': 201}, {'id':...   \n",
       "128       10         Shot  [{'id': 401}, {'id': 201}, {'id': 1215}, {'id'...   \n",
       "249       10         Shot  [{'id': 402}, {'id': 201}, {'id': 1205}, {'id'...   \n",
       "\n",
       "     playerId                                   positions  matchId eventName  \\\n",
       "46      25413      [{'y': 41, 'x': 88}, {'y': 0, 'x': 0}]  2499719      Shot   \n",
       "62      26150  [{'y': 52, 'x': 85}, {'y': 100, 'x': 100}]  2499719      Shot   \n",
       "91      14763  [{'y': 52, 'x': 96}, {'y': 100, 'x': 100}]  2499719      Shot   \n",
       "128      7868      [{'y': 33, 'x': 81}, {'y': 0, 'x': 0}]  2499719      Shot   \n",
       "249      7868      [{'y': 30, 'x': 75}, {'y': 0, 'x': 0}]  2499719      Shot   \n",
       "\n",
       "     teamId matchPeriod    eventSec subEventId         id  \n",
       "46     1609          1H   94.595788        100  177959212  \n",
       "62     1631          1H  179.854785        100  177959247  \n",
       "91     1631          1H  254.745027        100  177959280  \n",
       "128    1609          1H  425.824035        100  177959289  \n",
       "249    1609          1H  815.462015        100  177959429  "
      ]
     },
     "execution_count": 14,
     "metadata": {},
     "output_type": "execute_result"
    }
   ],
   "source": [
    "shots.head()"
   ]
  },
  {
   "cell_type": "markdown",
   "metadata": {},
   "source": [
    "## Processing shots to include only non-header shots"
   ]
  },
  {
   "cell_type": "markdown",
   "metadata": {},
   "source": [
    "The following code will filter out the Shots dataframe to include shots that are *not* headers or free-kicks, while also creating a column 'goal'- if the shots were goals."
   ]
  },
  {
   "cell_type": "code",
   "execution_count": 15,
   "metadata": {},
   "outputs": [
    {
     "name": "stderr",
     "output_type": "stream",
     "text": [
      "/usr/local/Cellar/jupyterlab/2.2.8/libexec/lib/python3.8/site-packages/pandas/core/indexing.py:659: SettingWithCopyWarning:\n",
      "\n",
      "\n",
      "A value is trying to be set on a copy of a slice from a DataFrame.\n",
      "Try using .loc[row_indexer,col_indexer] = value instead\n",
      "\n",
      "See the caveats in the documentation: https://pandas.pydata.org/pandas-docs/stable/user_guide/indexing.html#returning-a-view-versus-a-copy\n",
      "\n",
      "/usr/local/Cellar/jupyterlab/2.2.8/libexec/lib/python3.8/site-packages/pandas/core/indexing.py:1765: SettingWithCopyWarning:\n",
      "\n",
      "\n",
      "A value is trying to be set on a copy of a slice from a DataFrame.\n",
      "Try using .loc[row_indexer,col_indexer] = value instead\n",
      "\n",
      "See the caveats in the documentation: https://pandas.pydata.org/pandas-docs/stable/user_guide/indexing.html#returning-a-view-versus-a-copy\n",
      "\n"
     ]
    }
   ],
   "source": [
    "header_shots_index = set()\n",
    "goal_shots_index = set()\n",
    "for i in shots.index:\n",
    "    for id_list in shots['tags'][i]:\n",
    "        for key,id_value in id_list.items():\n",
    "            if(id_value==403):\n",
    "                #append index value to list\n",
    "                header_shots_index.add(i)  \n",
    "            elif(id_value==101):\n",
    "                goal_shots_index.add(i)\n",
    "                \n",
    "\n",
    "shots.loc[goal_shots_index,['goal']] = True \n",
    "\n",
    "#dropping header-shots rows\n",
    "shots = shots.drop(sorted(header_shots_index))\n",
    "\n",
    "shots['goal'] = shots['goal'].fillna(False)"
   ]
  },
  {
   "cell_type": "code",
   "execution_count": 16,
   "metadata": {},
   "outputs": [
    {
     "data": {
      "text/html": [
       "<div>\n",
       "<style scoped>\n",
       "    .dataframe tbody tr th:only-of-type {\n",
       "        vertical-align: middle;\n",
       "    }\n",
       "\n",
       "    .dataframe tbody tr th {\n",
       "        vertical-align: top;\n",
       "    }\n",
       "\n",
       "    .dataframe thead th {\n",
       "        text-align: right;\n",
       "    }\n",
       "</style>\n",
       "<table border=\"1\" class=\"dataframe\">\n",
       "  <thead>\n",
       "    <tr style=\"text-align: right;\">\n",
       "      <th></th>\n",
       "      <th>eventId</th>\n",
       "      <th>subEventName</th>\n",
       "      <th>tags</th>\n",
       "      <th>playerId</th>\n",
       "      <th>positions</th>\n",
       "      <th>matchId</th>\n",
       "      <th>eventName</th>\n",
       "      <th>teamId</th>\n",
       "      <th>matchPeriod</th>\n",
       "      <th>eventSec</th>\n",
       "      <th>subEventId</th>\n",
       "      <th>id</th>\n",
       "      <th>goal</th>\n",
       "    </tr>\n",
       "  </thead>\n",
       "  <tbody>\n",
       "    <tr>\n",
       "      <th>46</th>\n",
       "      <td>10</td>\n",
       "      <td>Shot</td>\n",
       "      <td>[{'id': 101}, {'id': 402}, {'id': 201}, {'id':...</td>\n",
       "      <td>25413</td>\n",
       "      <td>[{'y': 41, 'x': 88}, {'y': 0, 'x': 0}]</td>\n",
       "      <td>2499719</td>\n",
       "      <td>Shot</td>\n",
       "      <td>1609</td>\n",
       "      <td>1H</td>\n",
       "      <td>94.595788</td>\n",
       "      <td>100</td>\n",
       "      <td>177959212</td>\n",
       "      <td>True</td>\n",
       "    </tr>\n",
       "    <tr>\n",
       "      <th>62</th>\n",
       "      <td>10</td>\n",
       "      <td>Shot</td>\n",
       "      <td>[{'id': 401}, {'id': 201}, {'id': 1211}, {'id'...</td>\n",
       "      <td>26150</td>\n",
       "      <td>[{'y': 52, 'x': 85}, {'y': 100, 'x': 100}]</td>\n",
       "      <td>2499719</td>\n",
       "      <td>Shot</td>\n",
       "      <td>1631</td>\n",
       "      <td>1H</td>\n",
       "      <td>179.854785</td>\n",
       "      <td>100</td>\n",
       "      <td>177959247</td>\n",
       "      <td>False</td>\n",
       "    </tr>\n",
       "    <tr>\n",
       "      <th>128</th>\n",
       "      <td>10</td>\n",
       "      <td>Shot</td>\n",
       "      <td>[{'id': 401}, {'id': 201}, {'id': 1215}, {'id'...</td>\n",
       "      <td>7868</td>\n",
       "      <td>[{'y': 33, 'x': 81}, {'y': 0, 'x': 0}]</td>\n",
       "      <td>2499719</td>\n",
       "      <td>Shot</td>\n",
       "      <td>1609</td>\n",
       "      <td>1H</td>\n",
       "      <td>425.824035</td>\n",
       "      <td>100</td>\n",
       "      <td>177959289</td>\n",
       "      <td>False</td>\n",
       "    </tr>\n",
       "    <tr>\n",
       "      <th>249</th>\n",
       "      <td>10</td>\n",
       "      <td>Shot</td>\n",
       "      <td>[{'id': 402}, {'id': 201}, {'id': 1205}, {'id'...</td>\n",
       "      <td>7868</td>\n",
       "      <td>[{'y': 30, 'x': 75}, {'y': 0, 'x': 0}]</td>\n",
       "      <td>2499719</td>\n",
       "      <td>Shot</td>\n",
       "      <td>1609</td>\n",
       "      <td>1H</td>\n",
       "      <td>815.462015</td>\n",
       "      <td>100</td>\n",
       "      <td>177959429</td>\n",
       "      <td>False</td>\n",
       "    </tr>\n",
       "    <tr>\n",
       "      <th>394</th>\n",
       "      <td>10</td>\n",
       "      <td>Shot</td>\n",
       "      <td>[{'id': 401}, {'id': 2101}, {'id': 1802}]</td>\n",
       "      <td>7945</td>\n",
       "      <td>[{'y': 39, 'x': 90}, {'y': 0, 'x': 0}]</td>\n",
       "      <td>2499719</td>\n",
       "      <td>Shot</td>\n",
       "      <td>1609</td>\n",
       "      <td>1H</td>\n",
       "      <td>1286.061650</td>\n",
       "      <td>100</td>\n",
       "      <td>177959606</td>\n",
       "      <td>False</td>\n",
       "    </tr>\n",
       "    <tr>\n",
       "      <th>...</th>\n",
       "      <td>...</td>\n",
       "      <td>...</td>\n",
       "      <td>...</td>\n",
       "      <td>...</td>\n",
       "      <td>...</td>\n",
       "      <td>...</td>\n",
       "      <td>...</td>\n",
       "      <td>...</td>\n",
       "      <td>...</td>\n",
       "      <td>...</td>\n",
       "      <td>...</td>\n",
       "      <td>...</td>\n",
       "      <td>...</td>\n",
       "    </tr>\n",
       "    <tr>\n",
       "      <th>642939</th>\n",
       "      <td>10</td>\n",
       "      <td>Shot</td>\n",
       "      <td>[{'id': 401}, {'id': 2101}, {'id': 1802}]</td>\n",
       "      <td>265318</td>\n",
       "      <td>[{'y': 40, 'x': 86}, {'y': 0, 'x': 0}]</td>\n",
       "      <td>2500098</td>\n",
       "      <td>Shot</td>\n",
       "      <td>1633</td>\n",
       "      <td>2H</td>\n",
       "      <td>1933.702081</td>\n",
       "      <td>100</td>\n",
       "      <td>251596050</td>\n",
       "      <td>False</td>\n",
       "    </tr>\n",
       "    <tr>\n",
       "      <th>642945</th>\n",
       "      <td>10</td>\n",
       "      <td>Shot</td>\n",
       "      <td>[{'id': 401}, {'id': 1212}, {'id': 1802}]</td>\n",
       "      <td>8561</td>\n",
       "      <td>[{'y': 45, 'x': 72}, {'y': 0, 'x': 0}]</td>\n",
       "      <td>2500098</td>\n",
       "      <td>Shot</td>\n",
       "      <td>1633</td>\n",
       "      <td>2H</td>\n",
       "      <td>1972.969422</td>\n",
       "      <td>100</td>\n",
       "      <td>251596053</td>\n",
       "      <td>False</td>\n",
       "    </tr>\n",
       "    <tr>\n",
       "      <th>643023</th>\n",
       "      <td>10</td>\n",
       "      <td>Shot</td>\n",
       "      <td>[{'id': 101}, {'id': 402}, {'id': 201}, {'id':...</td>\n",
       "      <td>41174</td>\n",
       "      <td>[{'y': 33, 'x': 86}, {'y': 0, 'x': 0}]</td>\n",
       "      <td>2500098</td>\n",
       "      <td>Shot</td>\n",
       "      <td>1633</td>\n",
       "      <td>2H</td>\n",
       "      <td>2193.887080</td>\n",
       "      <td>100</td>\n",
       "      <td>251596096</td>\n",
       "      <td>True</td>\n",
       "    </tr>\n",
       "    <tr>\n",
       "      <th>643051</th>\n",
       "      <td>10</td>\n",
       "      <td>Shot</td>\n",
       "      <td>[{'id': 402}, {'id': 201}, {'id': 1201}, {'id'...</td>\n",
       "      <td>7879</td>\n",
       "      <td>[{'y': 62, 'x': 88}, {'y': 100, 'x': 100}]</td>\n",
       "      <td>2500098</td>\n",
       "      <td>Shot</td>\n",
       "      <td>1623</td>\n",
       "      <td>2H</td>\n",
       "      <td>2377.197700</td>\n",
       "      <td>100</td>\n",
       "      <td>251596357</td>\n",
       "      <td>False</td>\n",
       "    </tr>\n",
       "    <tr>\n",
       "      <th>643055</th>\n",
       "      <td>10</td>\n",
       "      <td>Shot</td>\n",
       "      <td>[{'id': 402}, {'id': 201}, {'id': 1206}, {'id'...</td>\n",
       "      <td>145692</td>\n",
       "      <td>[{'y': 38, 'x': 92}, {'y': 100, 'x': 100}]</td>\n",
       "      <td>2500098</td>\n",
       "      <td>Shot</td>\n",
       "      <td>1623</td>\n",
       "      <td>2H</td>\n",
       "      <td>2381.481625</td>\n",
       "      <td>100</td>\n",
       "      <td>251596359</td>\n",
       "      <td>False</td>\n",
       "    </tr>\n",
       "  </tbody>\n",
       "</table>\n",
       "<p>7134 rows × 13 columns</p>\n",
       "</div>"
      ],
      "text/plain": [
       "        eventId subEventName  \\\n",
       "46           10         Shot   \n",
       "62           10         Shot   \n",
       "128          10         Shot   \n",
       "249          10         Shot   \n",
       "394          10         Shot   \n",
       "...         ...          ...   \n",
       "642939       10         Shot   \n",
       "642945       10         Shot   \n",
       "643023       10         Shot   \n",
       "643051       10         Shot   \n",
       "643055       10         Shot   \n",
       "\n",
       "                                                     tags  playerId  \\\n",
       "46      [{'id': 101}, {'id': 402}, {'id': 201}, {'id':...     25413   \n",
       "62      [{'id': 401}, {'id': 201}, {'id': 1211}, {'id'...     26150   \n",
       "128     [{'id': 401}, {'id': 201}, {'id': 1215}, {'id'...      7868   \n",
       "249     [{'id': 402}, {'id': 201}, {'id': 1205}, {'id'...      7868   \n",
       "394             [{'id': 401}, {'id': 2101}, {'id': 1802}]      7945   \n",
       "...                                                   ...       ...   \n",
       "642939          [{'id': 401}, {'id': 2101}, {'id': 1802}]    265318   \n",
       "642945          [{'id': 401}, {'id': 1212}, {'id': 1802}]      8561   \n",
       "643023  [{'id': 101}, {'id': 402}, {'id': 201}, {'id':...     41174   \n",
       "643051  [{'id': 402}, {'id': 201}, {'id': 1201}, {'id'...      7879   \n",
       "643055  [{'id': 402}, {'id': 201}, {'id': 1206}, {'id'...    145692   \n",
       "\n",
       "                                         positions  matchId eventName  teamId  \\\n",
       "46          [{'y': 41, 'x': 88}, {'y': 0, 'x': 0}]  2499719      Shot    1609   \n",
       "62      [{'y': 52, 'x': 85}, {'y': 100, 'x': 100}]  2499719      Shot    1631   \n",
       "128         [{'y': 33, 'x': 81}, {'y': 0, 'x': 0}]  2499719      Shot    1609   \n",
       "249         [{'y': 30, 'x': 75}, {'y': 0, 'x': 0}]  2499719      Shot    1609   \n",
       "394         [{'y': 39, 'x': 90}, {'y': 0, 'x': 0}]  2499719      Shot    1609   \n",
       "...                                            ...      ...       ...     ...   \n",
       "642939      [{'y': 40, 'x': 86}, {'y': 0, 'x': 0}]  2500098      Shot    1633   \n",
       "642945      [{'y': 45, 'x': 72}, {'y': 0, 'x': 0}]  2500098      Shot    1633   \n",
       "643023      [{'y': 33, 'x': 86}, {'y': 0, 'x': 0}]  2500098      Shot    1633   \n",
       "643051  [{'y': 62, 'x': 88}, {'y': 100, 'x': 100}]  2500098      Shot    1623   \n",
       "643055  [{'y': 38, 'x': 92}, {'y': 100, 'x': 100}]  2500098      Shot    1623   \n",
       "\n",
       "       matchPeriod     eventSec subEventId         id   goal  \n",
       "46              1H    94.595788        100  177959212   True  \n",
       "62              1H   179.854785        100  177959247  False  \n",
       "128             1H   425.824035        100  177959289  False  \n",
       "249             1H   815.462015        100  177959429  False  \n",
       "394             1H  1286.061650        100  177959606  False  \n",
       "...            ...          ...        ...        ...    ...  \n",
       "642939          2H  1933.702081        100  251596050  False  \n",
       "642945          2H  1972.969422        100  251596053  False  \n",
       "643023          2H  2193.887080        100  251596096   True  \n",
       "643051          2H  2377.197700        100  251596357  False  \n",
       "643055          2H  2381.481625        100  251596359  False  \n",
       "\n",
       "[7134 rows x 13 columns]"
      ]
     },
     "execution_count": 16,
     "metadata": {},
     "output_type": "execute_result"
    }
   ],
   "source": [
    "shots"
   ]
  },
  {
   "cell_type": "markdown",
   "metadata": {},
   "source": [
    "The Shots dataframe now contains only shooting oppurtinites that are not headers or free-kicks."
   ]
  },
  {
   "cell_type": "markdown",
   "metadata": {},
   "source": [
    "#### Plotting shots and goals in all matches in the season:"
   ]
  },
  {
   "cell_type": "code",
   "execution_count": 17,
   "metadata": {},
   "outputs": [
    {
     "data": {
      "image/png": "[encoded data removed]",
      "text/plain": [
       "<Figure size 748.8x489.6 with 1 Axes>"
      ]
     },
     "metadata": {
      "needs_background": "light"
     },
     "output_type": "display_data"
    }
   ],
   "source": [
    "shots['x_start'] = [x[0]['x'] for x in shots['positions']]\n",
    "shots['y_start'] = [x[0]['y'] for x in shots['positions']]\n",
    "\n",
    "f = draw_pitch(\"white\", \"black\", \"h\", \"full\")\n",
    "plt.scatter(shots['x_start']+4, abs(shots['y_start']-15), c='red', edgecolors=\"k\", zorder=12, \n",
    "                alpha=0.5)\n",
    "plt.title('Shot Plot', fontsize=20)\n",
    "plt.show()"
   ]
  },
  {
   "cell_type": "code",
   "execution_count": 18,
   "metadata": {},
   "outputs": [
    {
     "data": {
      "image/png": "[encoded data removed]",
      "text/plain": [
       "<Figure size 748.8x489.6 with 1 Axes>"
      ]
     },
     "metadata": {
      "needs_background": "light"
     },
     "output_type": "display_data"
    }
   ],
   "source": [
    "goals_df = shots[shots['goal']==True]\n",
    "\n",
    "f = draw_pitch(\"white\", \"black\", \"h\", \"full\")\n",
    "plt.scatter(goals_df['x_start']+4, abs(goals_df['y_start']-15), c='red', edgecolors=\"k\", zorder=12, \n",
    "                alpha=0.5)\n",
    "plt.title('Goals Plot', fontsize=20)\n",
    "plt.show()"
   ]
  },
  {
   "cell_type": "markdown",
   "metadata": {},
   "source": [
    "## Naive Expected Goals (xG):"
   ]
  },
  {
   "cell_type": "markdown",
   "metadata": {},
   "source": [
    "- The probablitiy of scoring from different areas of the pitch - that's what the XGmodel will build on. \n",
    "- This probability can be calculated by goals/shots from every point of the pitch \n",
    "- Every point of goals/shots = frequency of scoring from different places. This is what will be plotted next:\n"
   ]
  },
  {
   "cell_type": "code",
   "execution_count": 19,
   "metadata": {},
   "outputs": [],
   "source": [
    "#Two dimensional histogram\n",
    "H_Shot=np.histogram2d(100-shots['x_start'], shots['y_start'],bins=50,range=[[0, 100],[0, 100]])\n",
    "\n",
    "H_Goal=np.histogram2d(100-goals_df['x_start'], goals_df['y_start'],bins=50,range=[[0, 100],[0, 100]])\n"
   ]
  },
  {
   "cell_type": "code",
   "execution_count": 20,
   "metadata": {},
   "outputs": [
    {
     "name": "stderr",
     "output_type": "stream",
     "text": [
      "<ipython-input-20-393e9708816e>:45: RuntimeWarning:\n",
      "\n",
      "invalid value encountered in true_divide\n",
      "\n"
     ]
    },
    {
     "data": {
      "image/png": "[encoded data removed]",
      "text/plain": [
       "<Figure size 432x288 with 2 Axes>"
      ]
     },
     "metadata": {
      "needs_background": "light"
     },
     "output_type": "display_data"
    }
   ],
   "source": [
    "from matplotlib.patches import Arc\n",
    "\n",
    "\n",
    "fig=plt.figure()\n",
    "ax=fig.add_subplot(1,1,1)\n",
    "\n",
    "linecolor='black'\n",
    "\n",
    "#Pitch Outline & Centre Line\n",
    "plt.plot([0,65],[0,0], color=linecolor)\n",
    "plt.plot([65,65],[50,0], color=linecolor)\n",
    "plt.plot([0,0],[50,0], color=linecolor)\n",
    "\n",
    "#Left Penalty Area\n",
    "plt.plot([12.5,52.5],[16.5,16.5],color=linecolor)\n",
    "plt.plot([52.5,52.5],[16.5,0],color=linecolor)\n",
    "plt.plot([12.5,12.5],[0,16.5],color=linecolor)\n",
    "\n",
    "#Left 6-yard Box\n",
    "plt.plot([41.5,41.5],[5.5,0],color=linecolor)\n",
    "plt.plot([23.5,41.5],[5.5,5.5],color=linecolor)\n",
    "plt.plot([23.5,23.5],[0,5.5],color=linecolor)\n",
    "\n",
    "#Goal\n",
    "plt.plot([41.5-5.34,41.5-5.34],[-2,0],color=linecolor)\n",
    "plt.plot([23.5+5.34,41.5-5.34],[-2,-2],color=linecolor)\n",
    "plt.plot([23.5+5.34,23.5+5.34],[0,-2],color=linecolor)\n",
    "\n",
    "#Prepare Circles\n",
    "leftPenSpot = plt.Circle((65/2,11),0.8,color=linecolor)\n",
    "\n",
    "#Draw Circles\n",
    "ax.add_patch(leftPenSpot)\n",
    "\n",
    "#Prepare Arcs\n",
    "leftArc = Arc((32.5,11),height=18.3,width=18.3,angle=0,theta1=38,theta2=142,color=linecolor)\n",
    "\n",
    "#Draw Arcs\n",
    "ax.add_patch(leftArc)\n",
    "\n",
    "#Tidy Axes\n",
    "plt.axis('off')\n",
    "\n",
    "#f=draw_pitch(\"white\", \"black\", \"h\", \"full\")\n",
    "pos=ax.imshow(H_Goal[0]/H_Shot[0], extent=[-1,66,104,-1], aspect='auto',cmap=plt.cm.Reds,vmin=0, vmax=0.5)\n",
    "fig.colorbar(pos, ax=ax)\n",
    "ax.set_title('Proportion of shots resulting in a goal')\n",
    "plt.xlim((-1,66))\n",
    "plt.ylim((-3,35))\n",
    "plt.tight_layout()\n",
    "plt.gca().set_aspect('equal', adjustable='box')\n",
    "plt.show()"
   ]
  },
  {
   "cell_type": "markdown",
   "metadata": {},
   "source": [
    "While this plot shows a pattern of good goalscoring opportunities, there are some outliers. Some of the shots from outside the box are given a high **xG** because of a low proportion of shots from that point. So a point futher out could have 1 goal out of 2 shots taken from that point - giving a high **xG** rating. \n"
   ]
  },
  {
   "cell_type": "markdown",
   "metadata": {},
   "source": [
    "# How to build on this simple model"
   ]
  },
  {
   "cell_type": "markdown",
   "metadata": {},
   "source": [
    "- The outliers explained above need smoothening out. \n",
    "- One way of smothening out the proportion of shots xG model is by taking into account the angle of shot to goal, as well as its distance. \n",
    "- Angle is an important concept in shooting and is a nice way to take into account distance as well. \n",
    "- The more the angle you have to shoot, the better chance of scoring.\n"
   ]
  },
  {
   "cell_type": "markdown",
   "metadata": {},
   "source": [
    "# Inspiration \n",
    "\n",
    "I have taken the pitch drawing code, as well as a lot of inspiration, from the following notebooks as part of a football analytics course:\n",
    "\n",
    "- https://github.com/Friends-of-Tracking-Data-FoTD/SoccermaticsForPython/blob/master/3xGModel.py\n",
    "- https://github.com/Friends-of-Tracking-Data-FoTD/mapping-match-events-in-Python/blob/master/data_exploration.ipynb"
   ]
  },
  {
   "cell_type": "code",
   "execution_count": null,
   "metadata": {},
   "outputs": [],
   "source": []
  }
 ],
 "metadata": {
  "kernelspec": {
   "display_name": "Python 3",
   "language": "python",
   "name": "python3"
  },
  "language_info": {
   "codemirror_mode": {
    "name": "ipython",
    "version": 3
   },
   "file_extension": ".py",
   "mimetype": "text/x-python",
   "name": "python",
   "nbconvert_exporter": "python",
   "pygments_lexer": "ipython3",
   "version": "3.8.6"
  }
 },
 "nbformat": 4,
 "nbformat_minor": 4
}
